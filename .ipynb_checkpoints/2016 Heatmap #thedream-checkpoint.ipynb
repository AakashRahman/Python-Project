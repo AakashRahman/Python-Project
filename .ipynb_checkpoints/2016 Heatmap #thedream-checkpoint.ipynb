{
 "cells": [
  {
   "cell_type": "code",
   "execution_count": 5,
   "metadata": {},
   "outputs": [],
   "source": [
    "# imports dependancies\n",
    "import pandas as pd\n",
    "import numpy as np\n",
    "import plotly.express as px\n",
    "import matplotlib.pyplot as plt\n",
    "import plotly.graph_objects as go\n",
    "import datetime "
   ]
  },
  {
   "cell_type": "code",
   "execution_count": 6,
   "metadata": {},
   "outputs": [
    {
     "data": {
      "text/html": [
       "<div>\n",
       "<style scoped>\n",
       "    .dataframe tbody tr th:only-of-type {\n",
       "        vertical-align: middle;\n",
       "    }\n",
       "\n",
       "    .dataframe tbody tr th {\n",
       "        vertical-align: top;\n",
       "    }\n",
       "\n",
       "    .dataframe thead th {\n",
       "        text-align: right;\n",
       "    }\n",
       "</style>\n",
       "<table border=\"1\" class=\"dataframe\">\n",
       "  <thead>\n",
       "    <tr style=\"text-align: right;\">\n",
       "      <th></th>\n",
       "      <th>state</th>\n",
       "      <th>startdate</th>\n",
       "      <th>adjpoll_clinton</th>\n",
       "      <th>adjpoll_trump</th>\n",
       "      <th>adjpoll_johnson</th>\n",
       "      <th>adjpoll_mcmullin</th>\n",
       "      <th>poll_id</th>\n",
       "    </tr>\n",
       "  </thead>\n",
       "  <tbody>\n",
       "    <tr>\n",
       "      <th>0</th>\n",
       "      <td>U.S.</td>\n",
       "      <td>11/3/2016</td>\n",
       "      <td>45.20163</td>\n",
       "      <td>41.72430</td>\n",
       "      <td>4.626221</td>\n",
       "      <td>NaN</td>\n",
       "      <td>48630</td>\n",
       "    </tr>\n",
       "    <tr>\n",
       "      <th>1</th>\n",
       "      <td>U.S.</td>\n",
       "      <td>11/1/2016</td>\n",
       "      <td>43.34557</td>\n",
       "      <td>41.21439</td>\n",
       "      <td>5.175792</td>\n",
       "      <td>NaN</td>\n",
       "      <td>48847</td>\n",
       "    </tr>\n",
       "    <tr>\n",
       "      <th>2</th>\n",
       "      <td>U.S.</td>\n",
       "      <td>11/2/2016</td>\n",
       "      <td>42.02638</td>\n",
       "      <td>38.81620</td>\n",
       "      <td>6.844734</td>\n",
       "      <td>NaN</td>\n",
       "      <td>48922</td>\n",
       "    </tr>\n",
       "    <tr>\n",
       "      <th>3</th>\n",
       "      <td>U.S.</td>\n",
       "      <td>11/4/2016</td>\n",
       "      <td>45.65676</td>\n",
       "      <td>40.92004</td>\n",
       "      <td>6.069454</td>\n",
       "      <td>NaN</td>\n",
       "      <td>48687</td>\n",
       "    </tr>\n",
       "    <tr>\n",
       "      <th>4</th>\n",
       "      <td>U.S.</td>\n",
       "      <td>11/3/2016</td>\n",
       "      <td>46.84089</td>\n",
       "      <td>42.33184</td>\n",
       "      <td>3.726098</td>\n",
       "      <td>NaN</td>\n",
       "      <td>48848</td>\n",
       "    </tr>\n",
       "  </tbody>\n",
       "</table>\n",
       "</div>"
      ],
      "text/plain": [
       "  state  startdate  adjpoll_clinton  adjpoll_trump  adjpoll_johnson  \\\n",
       "0  U.S.  11/3/2016         45.20163       41.72430         4.626221   \n",
       "1  U.S.  11/1/2016         43.34557       41.21439         5.175792   \n",
       "2  U.S.  11/2/2016         42.02638       38.81620         6.844734   \n",
       "3  U.S.  11/4/2016         45.65676       40.92004         6.069454   \n",
       "4  U.S.  11/3/2016         46.84089       42.33184         3.726098   \n",
       "\n",
       "   adjpoll_mcmullin  poll_id  \n",
       "0               NaN    48630  \n",
       "1               NaN    48847  \n",
       "2               NaN    48922  \n",
       "3               NaN    48687  \n",
       "4               NaN    48848  "
      ]
     },
     "execution_count": 6,
     "metadata": {},
     "output_type": "execute_result"
    }
   ],
   "source": [
    "# import and read the CSV file for Presidential general polls data 2016\n",
    "election_data = pd.read_csv(\"president_general_polls_2016.csv\")\n",
    "# drom the columns name \"cycle\", \"branch\", \"type\", \"matchup\", \"grade\", \"pollster\", \"url\", \"createddate\", \"timestamp\", \"question_id\", \"samplesize\", \"population\", \"poll_wt\", \"rawpoll_clinton\", \"rawpoll_trump\", \"rawpoll_johnson\", \"rawpoll_mcmullin\", \"multiversions\", \"forecastdate\", \"enddate\"\n",
    "election_data = election_data.drop(columns=[\"cycle\", \"branch\", \"type\", \"matchup\", \"grade\", \"pollster\", \"url\", \"createddate\", \"timestamp\", \"question_id\", \"samplesize\", \"population\", \"poll_wt\", \"rawpoll_clinton\", \"rawpoll_trump\", \"rawpoll_johnson\", \"rawpoll_mcmullin\", \"multiversions\", \"forecastdate\", \"enddate\"])\n",
    "#see the data frame\n",
    "election_data.head()"
   ]
  },
  {
   "cell_type": "code",
   "execution_count": 7,
   "metadata": {
    "scrolled": true
   },
   "outputs": [
    {
     "data": {
      "text/html": [
       "<div>\n",
       "<style scoped>\n",
       "    .dataframe tbody tr th:only-of-type {\n",
       "        vertical-align: middle;\n",
       "    }\n",
       "\n",
       "    .dataframe tbody tr th {\n",
       "        vertical-align: top;\n",
       "    }\n",
       "\n",
       "    .dataframe thead th {\n",
       "        text-align: right;\n",
       "    }\n",
       "</style>\n",
       "<table border=\"1\" class=\"dataframe\">\n",
       "  <thead>\n",
       "    <tr style=\"text-align: right;\">\n",
       "      <th></th>\n",
       "      <th>Trump Vote Percentage</th>\n",
       "      <th>Clinton Vote Percentage</th>\n",
       "      <th>Clinton Minus Trump</th>\n",
       "    </tr>\n",
       "    <tr>\n",
       "      <th>State</th>\n",
       "      <th></th>\n",
       "      <th></th>\n",
       "      <th></th>\n",
       "    </tr>\n",
       "  </thead>\n",
       "  <tbody>\n",
       "    <tr>\n",
       "      <th>Alabama</th>\n",
       "      <td>57.375262</td>\n",
       "      <td>33.249876</td>\n",
       "      <td>-24.125386</td>\n",
       "    </tr>\n",
       "    <tr>\n",
       "      <th>Alaska</th>\n",
       "      <td>44.918988</td>\n",
       "      <td>35.561077</td>\n",
       "      <td>-9.357911</td>\n",
       "    </tr>\n",
       "    <tr>\n",
       "      <th>Arizona</th>\n",
       "      <td>44.427907</td>\n",
       "      <td>42.161243</td>\n",
       "      <td>-2.266664</td>\n",
       "    </tr>\n",
       "    <tr>\n",
       "      <th>Arkansas</th>\n",
       "      <td>51.687746</td>\n",
       "      <td>36.439381</td>\n",
       "      <td>-15.248365</td>\n",
       "    </tr>\n",
       "    <tr>\n",
       "      <th>California</th>\n",
       "      <td>32.508618</td>\n",
       "      <td>55.303613</td>\n",
       "      <td>22.794995</td>\n",
       "    </tr>\n",
       "    <tr>\n",
       "      <th>Colorado</th>\n",
       "      <td>39.864592</td>\n",
       "      <td>43.818264</td>\n",
       "      <td>3.953672</td>\n",
       "    </tr>\n",
       "    <tr>\n",
       "      <th>Connecticut</th>\n",
       "      <td>38.087213</td>\n",
       "      <td>48.901436</td>\n",
       "      <td>10.814223</td>\n",
       "    </tr>\n",
       "    <tr>\n",
       "      <th>Delaware</th>\n",
       "      <td>35.828049</td>\n",
       "      <td>46.191942</td>\n",
       "      <td>10.363893</td>\n",
       "    </tr>\n",
       "    <tr>\n",
       "      <th>Florida</th>\n",
       "      <td>45.806535</td>\n",
       "      <td>45.715626</td>\n",
       "      <td>-0.090909</td>\n",
       "    </tr>\n",
       "    <tr>\n",
       "      <th>Georgia</th>\n",
       "      <td>47.657778</td>\n",
       "      <td>41.622087</td>\n",
       "      <td>-6.035691</td>\n",
       "    </tr>\n",
       "    <tr>\n",
       "      <th>Hawaii</th>\n",
       "      <td>32.112668</td>\n",
       "      <td>51.850662</td>\n",
       "      <td>19.737994</td>\n",
       "    </tr>\n",
       "    <tr>\n",
       "      <th>Idaho</th>\n",
       "      <td>49.796214</td>\n",
       "      <td>29.298723</td>\n",
       "      <td>-20.497490</td>\n",
       "    </tr>\n",
       "    <tr>\n",
       "      <th>Illinois</th>\n",
       "      <td>35.777267</td>\n",
       "      <td>49.597420</td>\n",
       "      <td>13.820152</td>\n",
       "    </tr>\n",
       "    <tr>\n",
       "      <th>Indiana</th>\n",
       "      <td>48.413110</td>\n",
       "      <td>36.854219</td>\n",
       "      <td>-11.558891</td>\n",
       "    </tr>\n",
       "    <tr>\n",
       "      <th>Iowa</th>\n",
       "      <td>43.643877</td>\n",
       "      <td>41.283802</td>\n",
       "      <td>-2.360075</td>\n",
       "    </tr>\n",
       "    <tr>\n",
       "      <th>Kansas</th>\n",
       "      <td>46.429027</td>\n",
       "      <td>38.692371</td>\n",
       "      <td>-7.736657</td>\n",
       "    </tr>\n",
       "    <tr>\n",
       "      <th>Kentucky</th>\n",
       "      <td>52.377058</td>\n",
       "      <td>35.980578</td>\n",
       "      <td>-16.396480</td>\n",
       "    </tr>\n",
       "    <tr>\n",
       "      <th>Louisiana</th>\n",
       "      <td>53.748701</td>\n",
       "      <td>35.175795</td>\n",
       "      <td>-18.572906</td>\n",
       "    </tr>\n",
       "    <tr>\n",
       "      <th>Maine</th>\n",
       "      <td>39.426298</td>\n",
       "      <td>44.260252</td>\n",
       "      <td>4.833955</td>\n",
       "    </tr>\n",
       "    <tr>\n",
       "      <th>Maryland</th>\n",
       "      <td>31.438657</td>\n",
       "      <td>55.598888</td>\n",
       "      <td>24.160230</td>\n",
       "    </tr>\n",
       "    <tr>\n",
       "      <th>Massachusetts</th>\n",
       "      <td>31.592645</td>\n",
       "      <td>54.505052</td>\n",
       "      <td>22.912407</td>\n",
       "    </tr>\n",
       "    <tr>\n",
       "      <th>Michigan</th>\n",
       "      <td>40.447162</td>\n",
       "      <td>44.018258</td>\n",
       "      <td>3.571095</td>\n",
       "    </tr>\n",
       "    <tr>\n",
       "      <th>Minnesota</th>\n",
       "      <td>37.037529</td>\n",
       "      <td>43.584408</td>\n",
       "      <td>6.546879</td>\n",
       "    </tr>\n",
       "    <tr>\n",
       "      <th>Mississippi</th>\n",
       "      <td>54.235085</td>\n",
       "      <td>35.871836</td>\n",
       "      <td>-18.363249</td>\n",
       "    </tr>\n",
       "    <tr>\n",
       "      <th>Missouri</th>\n",
       "      <td>46.755222</td>\n",
       "      <td>39.207635</td>\n",
       "      <td>-7.547588</td>\n",
       "    </tr>\n",
       "    <tr>\n",
       "      <th>Montana</th>\n",
       "      <td>48.523166</td>\n",
       "      <td>34.498330</td>\n",
       "      <td>-14.024836</td>\n",
       "    </tr>\n",
       "    <tr>\n",
       "      <th>Nebraska</th>\n",
       "      <td>53.828697</td>\n",
       "      <td>28.766984</td>\n",
       "      <td>-25.061713</td>\n",
       "    </tr>\n",
       "    <tr>\n",
       "      <th>Nevada</th>\n",
       "      <td>43.847267</td>\n",
       "      <td>43.284435</td>\n",
       "      <td>-0.562832</td>\n",
       "    </tr>\n",
       "    <tr>\n",
       "      <th>New Hampshire</th>\n",
       "      <td>40.342968</td>\n",
       "      <td>45.445585</td>\n",
       "      <td>5.102617</td>\n",
       "    </tr>\n",
       "    <tr>\n",
       "      <th>New Jersey</th>\n",
       "      <td>38.183620</td>\n",
       "      <td>48.879316</td>\n",
       "      <td>10.695696</td>\n",
       "    </tr>\n",
       "    <tr>\n",
       "      <th>New Mexico</th>\n",
       "      <td>36.415527</td>\n",
       "      <td>42.668949</td>\n",
       "      <td>6.253422</td>\n",
       "    </tr>\n",
       "    <tr>\n",
       "      <th>New York</th>\n",
       "      <td>35.009770</td>\n",
       "      <td>52.770521</td>\n",
       "      <td>17.760751</td>\n",
       "    </tr>\n",
       "    <tr>\n",
       "      <th>North Carolina</th>\n",
       "      <td>45.099070</td>\n",
       "      <td>44.888245</td>\n",
       "      <td>-0.210825</td>\n",
       "    </tr>\n",
       "    <tr>\n",
       "      <th>North Dakota</th>\n",
       "      <td>53.509154</td>\n",
       "      <td>29.214027</td>\n",
       "      <td>-24.295128</td>\n",
       "    </tr>\n",
       "    <tr>\n",
       "      <th>Ohio</th>\n",
       "      <td>44.414132</td>\n",
       "      <td>42.802893</td>\n",
       "      <td>-1.611239</td>\n",
       "    </tr>\n",
       "    <tr>\n",
       "      <th>Oklahoma</th>\n",
       "      <td>53.561696</td>\n",
       "      <td>31.768530</td>\n",
       "      <td>-21.793167</td>\n",
       "    </tr>\n",
       "    <tr>\n",
       "      <th>Oregon</th>\n",
       "      <td>37.071949</td>\n",
       "      <td>47.588381</td>\n",
       "      <td>10.516432</td>\n",
       "    </tr>\n",
       "    <tr>\n",
       "      <th>Pennsylvania</th>\n",
       "      <td>43.094740</td>\n",
       "      <td>46.127119</td>\n",
       "      <td>3.032379</td>\n",
       "    </tr>\n",
       "    <tr>\n",
       "      <th>Rhode Island</th>\n",
       "      <td>36.074420</td>\n",
       "      <td>49.003075</td>\n",
       "      <td>12.928655</td>\n",
       "    </tr>\n",
       "    <tr>\n",
       "      <th>South Carolina</th>\n",
       "      <td>48.540860</td>\n",
       "      <td>40.494659</td>\n",
       "      <td>-8.046201</td>\n",
       "    </tr>\n",
       "    <tr>\n",
       "      <th>South Dakota</th>\n",
       "      <td>48.821562</td>\n",
       "      <td>32.530343</td>\n",
       "      <td>-16.291219</td>\n",
       "    </tr>\n",
       "    <tr>\n",
       "      <th>Tennessee</th>\n",
       "      <td>50.521636</td>\n",
       "      <td>35.333138</td>\n",
       "      <td>-15.188497</td>\n",
       "    </tr>\n",
       "    <tr>\n",
       "      <th>Texas</th>\n",
       "      <td>48.180118</td>\n",
       "      <td>37.589515</td>\n",
       "      <td>-10.590603</td>\n",
       "    </tr>\n",
       "    <tr>\n",
       "      <th>Utah</th>\n",
       "      <td>37.904532</td>\n",
       "      <td>29.332974</td>\n",
       "      <td>-8.571558</td>\n",
       "    </tr>\n",
       "    <tr>\n",
       "      <th>Vermont</th>\n",
       "      <td>25.877823</td>\n",
       "      <td>53.708470</td>\n",
       "      <td>27.830648</td>\n",
       "    </tr>\n",
       "    <tr>\n",
       "      <th>Virginia</th>\n",
       "      <td>40.187971</td>\n",
       "      <td>46.362598</td>\n",
       "      <td>6.174627</td>\n",
       "    </tr>\n",
       "    <tr>\n",
       "      <th>Washington</th>\n",
       "      <td>35.816503</td>\n",
       "      <td>48.633871</td>\n",
       "      <td>12.817368</td>\n",
       "    </tr>\n",
       "    <tr>\n",
       "      <th>West Virginia</th>\n",
       "      <td>56.242596</td>\n",
       "      <td>31.918159</td>\n",
       "      <td>-24.324437</td>\n",
       "    </tr>\n",
       "    <tr>\n",
       "      <th>Wisconsin</th>\n",
       "      <td>40.041589</td>\n",
       "      <td>45.273477</td>\n",
       "      <td>5.231888</td>\n",
       "    </tr>\n",
       "    <tr>\n",
       "      <th>Wyoming</th>\n",
       "      <td>58.504486</td>\n",
       "      <td>24.881622</td>\n",
       "      <td>-33.622864</td>\n",
       "    </tr>\n",
       "  </tbody>\n",
       "</table>\n",
       "</div>"
      ],
      "text/plain": [
       "                Trump Vote Percentage  Clinton Vote Percentage  \\\n",
       "State                                                            \n",
       "Alabama                     57.375262                33.249876   \n",
       "Alaska                      44.918988                35.561077   \n",
       "Arizona                     44.427907                42.161243   \n",
       "Arkansas                    51.687746                36.439381   \n",
       "California                  32.508618                55.303613   \n",
       "Colorado                    39.864592                43.818264   \n",
       "Connecticut                 38.087213                48.901436   \n",
       "Delaware                    35.828049                46.191942   \n",
       "Florida                     45.806535                45.715626   \n",
       "Georgia                     47.657778                41.622087   \n",
       "Hawaii                      32.112668                51.850662   \n",
       "Idaho                       49.796214                29.298723   \n",
       "Illinois                    35.777267                49.597420   \n",
       "Indiana                     48.413110                36.854219   \n",
       "Iowa                        43.643877                41.283802   \n",
       "Kansas                      46.429027                38.692371   \n",
       "Kentucky                    52.377058                35.980578   \n",
       "Louisiana                   53.748701                35.175795   \n",
       "Maine                       39.426298                44.260252   \n",
       "Maryland                    31.438657                55.598888   \n",
       "Massachusetts               31.592645                54.505052   \n",
       "Michigan                    40.447162                44.018258   \n",
       "Minnesota                   37.037529                43.584408   \n",
       "Mississippi                 54.235085                35.871836   \n",
       "Missouri                    46.755222                39.207635   \n",
       "Montana                     48.523166                34.498330   \n",
       "Nebraska                    53.828697                28.766984   \n",
       "Nevada                      43.847267                43.284435   \n",
       "New Hampshire               40.342968                45.445585   \n",
       "New Jersey                  38.183620                48.879316   \n",
       "New Mexico                  36.415527                42.668949   \n",
       "New York                    35.009770                52.770521   \n",
       "North Carolina              45.099070                44.888245   \n",
       "North Dakota                53.509154                29.214027   \n",
       "Ohio                        44.414132                42.802893   \n",
       "Oklahoma                    53.561696                31.768530   \n",
       "Oregon                      37.071949                47.588381   \n",
       "Pennsylvania                43.094740                46.127119   \n",
       "Rhode Island                36.074420                49.003075   \n",
       "South Carolina              48.540860                40.494659   \n",
       "South Dakota                48.821562                32.530343   \n",
       "Tennessee                   50.521636                35.333138   \n",
       "Texas                       48.180118                37.589515   \n",
       "Utah                        37.904532                29.332974   \n",
       "Vermont                     25.877823                53.708470   \n",
       "Virginia                    40.187971                46.362598   \n",
       "Washington                  35.816503                48.633871   \n",
       "West Virginia               56.242596                31.918159   \n",
       "Wisconsin                   40.041589                45.273477   \n",
       "Wyoming                     58.504486                24.881622   \n",
       "\n",
       "                Clinton Minus Trump  \n",
       "State                                \n",
       "Alabama                  -24.125386  \n",
       "Alaska                    -9.357911  \n",
       "Arizona                   -2.266664  \n",
       "Arkansas                 -15.248365  \n",
       "California                22.794995  \n",
       "Colorado                   3.953672  \n",
       "Connecticut               10.814223  \n",
       "Delaware                  10.363893  \n",
       "Florida                   -0.090909  \n",
       "Georgia                   -6.035691  \n",
       "Hawaii                    19.737994  \n",
       "Idaho                    -20.497490  \n",
       "Illinois                  13.820152  \n",
       "Indiana                  -11.558891  \n",
       "Iowa                      -2.360075  \n",
       "Kansas                    -7.736657  \n",
       "Kentucky                 -16.396480  \n",
       "Louisiana                -18.572906  \n",
       "Maine                      4.833955  \n",
       "Maryland                  24.160230  \n",
       "Massachusetts             22.912407  \n",
       "Michigan                   3.571095  \n",
       "Minnesota                  6.546879  \n",
       "Mississippi              -18.363249  \n",
       "Missouri                  -7.547588  \n",
       "Montana                  -14.024836  \n",
       "Nebraska                 -25.061713  \n",
       "Nevada                    -0.562832  \n",
       "New Hampshire              5.102617  \n",
       "New Jersey                10.695696  \n",
       "New Mexico                 6.253422  \n",
       "New York                  17.760751  \n",
       "North Carolina            -0.210825  \n",
       "North Dakota             -24.295128  \n",
       "Ohio                      -1.611239  \n",
       "Oklahoma                 -21.793167  \n",
       "Oregon                    10.516432  \n",
       "Pennsylvania               3.032379  \n",
       "Rhode Island              12.928655  \n",
       "South Carolina            -8.046201  \n",
       "South Dakota             -16.291219  \n",
       "Tennessee                -15.188497  \n",
       "Texas                    -10.590603  \n",
       "Utah                      -8.571558  \n",
       "Vermont                   27.830648  \n",
       "Virginia                   6.174627  \n",
       "Washington                12.817368  \n",
       "West Virginia            -24.324437  \n",
       "Wisconsin                  5.231888  \n",
       "Wyoming                  -33.622864  "
      ]
     },
     "execution_count": 7,
     "metadata": {},
     "output_type": "execute_result"
    }
   ],
   "source": [
    "# make state as unique\n",
    "states = election_data[\"state\"].unique()\n",
    "#lists for holding state and candidates\n",
    "state_names=[]\n",
    "trump=[]\n",
    "clinton=[]\n",
    "cmt=[]\n",
    "maine=[]\n",
    "#define a dictionary \n",
    "df = {}\n",
    "t={}\n",
    "c={}\n",
    "ave={}\n",
    "#declare more than one name in same state =0, like 'Maine CD-1'or s=='Maine CD-2' and Nebraska CD-1' or s=='Nebraska CD-2'or s== 'Nebraska CD-3'\n",
    "me_tt=0\n",
    "me_ct=0\n",
    "ne_tt=0\n",
    "ne_ct=0\n",
    "#use for loop and if statements to find the lists\n",
    "for s in states:\n",
    "    if s == 'Maine CD-1'or s=='Maine CD-2':\n",
    "        df[str(s)] = election_data.loc[election_data[\"state\"]==s]\n",
    "        me_tt+=df[str(s)]['adjpoll_trump'].mean()\n",
    "        me_ct+=df[str(s)]['adjpoll_clinton'].mean()\n",
    "    elif s == 'Nebraska CD-1' or s=='Nebraska CD-2'or s== 'Nebraska CD-3':\n",
    "        df[str(s)] = election_data.loc[election_data[\"state\"]==s]\n",
    "        ne_tt+=df[str(s)]['adjpoll_trump'].mean()\n",
    "        ne_ct+=df[str(s)]['adjpoll_clinton'].mean()\n",
    "    else:\n",
    "        state_names.append(s)\n",
    "        df[str(s)] = election_data.loc[election_data[\"state\"]==s]\n",
    "        t[str(s)]= df[str(s)]['adjpoll_trump'].mean()\n",
    "        trump.append(t[str(s)])\n",
    "        c[str(s)] = df[str(s)]['adjpoll_clinton'].mean()\n",
    "        clinton.append(c[str(s)])\n",
    "        ave[str(s)]=c[str(s)]-t[str(s)]\n",
    "        cmt.append(ave[str(s)])\n",
    "me_t=me_tt / 2\n",
    "me_c=me_ct / 2\n",
    "me=me_c-me_t\n",
    "state_names.append('Maine')\n",
    "trump.append(me_t)\n",
    "clinton.append(me_c)\n",
    "cmt.append(me)\n",
    "ne_t = ne_tt / 3\n",
    "ne_c = ne_ct / 3\n",
    "ne=ne_c-ne_t\n",
    "state_names.append('Nebraska')\n",
    "trump.append(ne_t)\n",
    "clinton.append(ne_c)\n",
    "cmt.append(ne)\n",
    "#create a DataFrame for all states with Trumps & Clinton polls \n",
    "states_df=pd.DataFrame({'State':state_names,\n",
    "                        'Trump Vote Percentage':trump,\n",
    "                      'Clinton Vote Percentage':clinton ,\n",
    "                       'Clinton Minus Trump':cmt})\n",
    "#create and new data frame and drop data\n",
    "new_df=states_df.drop(states_df.index[[0,35,37,50]])\n",
    "new_df.set_index('State', inplace=True)\n",
    "#shoting the data with value \"state\"\n",
    "state_df=new_df.sort_values('State', ascending=True)\n",
    "# to show the shorting data\n",
    "state_df"
   ]
  },
  {
   "cell_type": "code",
   "execution_count": 8,
   "metadata": {},
   "outputs": [
    {
     "data": {
      "application/vnd.plotly.v1+json": {
       "config": {
        "plotlyServerURL": "https://plot.ly"
       },
       "data": [
        {
         "coloraxis": "coloraxis",
         "geo": "geo",
         "hovertemplate": "locations=%{location}<br>color=%{z}<extra></extra>",
         "locationmode": "USA-states",
         "locations": [
          "AL",
          "AK",
          "AZ",
          "AR",
          "CA",
          "CO",
          "CT",
          "DE",
          "FL",
          "GA",
          "HI",
          "ID",
          "IL",
          "IN",
          "IA",
          "KS",
          "KY",
          "LA",
          "ME",
          "MD",
          "MA",
          "MI",
          "MN",
          "MS",
          "MO",
          "MT",
          "NE",
          "NV",
          "NH",
          "NJ",
          "NM",
          "NY",
          "NC",
          "ND",
          "OH",
          "OK",
          "OR",
          "PA",
          "RI",
          "SC",
          "SD",
          "TN",
          "TX",
          "UT",
          "VT",
          "VA",
          "WA",
          "WV",
          "WI",
          "WY"
         ],
         "name": "",
         "type": "choropleth",
         "z": [
          -24.12538620155039,
          -9.357911228070215,
          -2.2666643881856174,
          -15.248365111111113,
          22.79499525821599,
          3.9536719583333166,
          10.814223181818186,
          10.363893249999975,
          -0.09090925675677397,
          -6.035690791666688,
          19.737994404761913,
          -20.49749006944445,
          13.82015216666668,
          -11.558890952380949,
          -2.360074999999995,
          -7.736656797385649,
          -16.396480068027188,
          -18.572906000000003,
          4.83395463203464,
          24.1602304964539,
          22.912406601307183,
          3.5710953488372255,
          6.5468792361111525,
          -18.363249302325606,
          -7.547587549019582,
          -14.024835934959334,
          -25.061712777777775,
          -0.5628317921147428,
          5.10261684523811,
          10.695696111111118,
          6.253422483660138,
          17.7607505820106,
          -0.21082498666660854,
          -24.295127849462357,
          -1.6112394782608632,
          -21.793166666666682,
          10.51643179012347,
          3.032378826666644,
          12.928655402298837,
          -8.04620064102562,
          -16.29121900900897,
          -15.18849724637679,
          -10.590602931034475,
          -8.571558030303045,
          27.830647523809535,
          6.174627399267436,
          12.817368169934625,
          -24.32443716312056,
          5.23188795833331,
          -33.622864252873576
         ]
        }
       ],
       "layout": {
        "coloraxis": {
         "colorbar": {
          "title": {
           "text": "color"
          }
         },
         "colorscale": [
          [
           0,
           "rgb(255,0,0)"
          ],
          [
           1,
           "rgb(0,0,255)"
          ]
         ]
        },
        "geo": {
         "center": {},
         "domain": {
          "x": [
           0,
           1
          ],
          "y": [
           0,
           1
          ]
         },
         "scope": "usa"
        },
        "legend": {
         "tracegroupgap": 0
        },
        "margin": {
         "t": 60
        },
        "template": {
         "data": {
          "bar": [
           {
            "error_x": {
             "color": "#2a3f5f"
            },
            "error_y": {
             "color": "#2a3f5f"
            },
            "marker": {
             "line": {
              "color": "#E5ECF6",
              "width": 0.5
             }
            },
            "type": "bar"
           }
          ],
          "barpolar": [
           {
            "marker": {
             "line": {
              "color": "#E5ECF6",
              "width": 0.5
             }
            },
            "type": "barpolar"
           }
          ],
          "carpet": [
           {
            "aaxis": {
             "endlinecolor": "#2a3f5f",
             "gridcolor": "white",
             "linecolor": "white",
             "minorgridcolor": "white",
             "startlinecolor": "#2a3f5f"
            },
            "baxis": {
             "endlinecolor": "#2a3f5f",
             "gridcolor": "white",
             "linecolor": "white",
             "minorgridcolor": "white",
             "startlinecolor": "#2a3f5f"
            },
            "type": "carpet"
           }
          ],
          "choropleth": [
           {
            "colorbar": {
             "outlinewidth": 0,
             "ticks": ""
            },
            "type": "choropleth"
           }
          ],
          "contour": [
           {
            "colorbar": {
             "outlinewidth": 0,
             "ticks": ""
            },
            "colorscale": [
             [
              0,
              "#0d0887"
             ],
             [
              0.1111111111111111,
              "#46039f"
             ],
             [
              0.2222222222222222,
              "#7201a8"
             ],
             [
              0.3333333333333333,
              "#9c179e"
             ],
             [
              0.4444444444444444,
              "#bd3786"
             ],
             [
              0.5555555555555556,
              "#d8576b"
             ],
             [
              0.6666666666666666,
              "#ed7953"
             ],
             [
              0.7777777777777778,
              "#fb9f3a"
             ],
             [
              0.8888888888888888,
              "#fdca26"
             ],
             [
              1,
              "#f0f921"
             ]
            ],
            "type": "contour"
           }
          ],
          "contourcarpet": [
           {
            "colorbar": {
             "outlinewidth": 0,
             "ticks": ""
            },
            "type": "contourcarpet"
           }
          ],
          "heatmap": [
           {
            "colorbar": {
             "outlinewidth": 0,
             "ticks": ""
            },
            "colorscale": [
             [
              0,
              "#0d0887"
             ],
             [
              0.1111111111111111,
              "#46039f"
             ],
             [
              0.2222222222222222,
              "#7201a8"
             ],
             [
              0.3333333333333333,
              "#9c179e"
             ],
             [
              0.4444444444444444,
              "#bd3786"
             ],
             [
              0.5555555555555556,
              "#d8576b"
             ],
             [
              0.6666666666666666,
              "#ed7953"
             ],
             [
              0.7777777777777778,
              "#fb9f3a"
             ],
             [
              0.8888888888888888,
              "#fdca26"
             ],
             [
              1,
              "#f0f921"
             ]
            ],
            "type": "heatmap"
           }
          ],
          "heatmapgl": [
           {
            "colorbar": {
             "outlinewidth": 0,
             "ticks": ""
            },
            "colorscale": [
             [
              0,
              "#0d0887"
             ],
             [
              0.1111111111111111,
              "#46039f"
             ],
             [
              0.2222222222222222,
              "#7201a8"
             ],
             [
              0.3333333333333333,
              "#9c179e"
             ],
             [
              0.4444444444444444,
              "#bd3786"
             ],
             [
              0.5555555555555556,
              "#d8576b"
             ],
             [
              0.6666666666666666,
              "#ed7953"
             ],
             [
              0.7777777777777778,
              "#fb9f3a"
             ],
             [
              0.8888888888888888,
              "#fdca26"
             ],
             [
              1,
              "#f0f921"
             ]
            ],
            "type": "heatmapgl"
           }
          ],
          "histogram": [
           {
            "marker": {
             "colorbar": {
              "outlinewidth": 0,
              "ticks": ""
             }
            },
            "type": "histogram"
           }
          ],
          "histogram2d": [
           {
            "colorbar": {
             "outlinewidth": 0,
             "ticks": ""
            },
            "colorscale": [
             [
              0,
              "#0d0887"
             ],
             [
              0.1111111111111111,
              "#46039f"
             ],
             [
              0.2222222222222222,
              "#7201a8"
             ],
             [
              0.3333333333333333,
              "#9c179e"
             ],
             [
              0.4444444444444444,
              "#bd3786"
             ],
             [
              0.5555555555555556,
              "#d8576b"
             ],
             [
              0.6666666666666666,
              "#ed7953"
             ],
             [
              0.7777777777777778,
              "#fb9f3a"
             ],
             [
              0.8888888888888888,
              "#fdca26"
             ],
             [
              1,
              "#f0f921"
             ]
            ],
            "type": "histogram2d"
           }
          ],
          "histogram2dcontour": [
           {
            "colorbar": {
             "outlinewidth": 0,
             "ticks": ""
            },
            "colorscale": [
             [
              0,
              "#0d0887"
             ],
             [
              0.1111111111111111,
              "#46039f"
             ],
             [
              0.2222222222222222,
              "#7201a8"
             ],
             [
              0.3333333333333333,
              "#9c179e"
             ],
             [
              0.4444444444444444,
              "#bd3786"
             ],
             [
              0.5555555555555556,
              "#d8576b"
             ],
             [
              0.6666666666666666,
              "#ed7953"
             ],
             [
              0.7777777777777778,
              "#fb9f3a"
             ],
             [
              0.8888888888888888,
              "#fdca26"
             ],
             [
              1,
              "#f0f921"
             ]
            ],
            "type": "histogram2dcontour"
           }
          ],
          "mesh3d": [
           {
            "colorbar": {
             "outlinewidth": 0,
             "ticks": ""
            },
            "type": "mesh3d"
           }
          ],
          "parcoords": [
           {
            "line": {
             "colorbar": {
              "outlinewidth": 0,
              "ticks": ""
             }
            },
            "type": "parcoords"
           }
          ],
          "pie": [
           {
            "automargin": true,
            "type": "pie"
           }
          ],
          "scatter": [
           {
            "marker": {
             "colorbar": {
              "outlinewidth": 0,
              "ticks": ""
             }
            },
            "type": "scatter"
           }
          ],
          "scatter3d": [
           {
            "line": {
             "colorbar": {
              "outlinewidth": 0,
              "ticks": ""
             }
            },
            "marker": {
             "colorbar": {
              "outlinewidth": 0,
              "ticks": ""
             }
            },
            "type": "scatter3d"
           }
          ],
          "scattercarpet": [
           {
            "marker": {
             "colorbar": {
              "outlinewidth": 0,
              "ticks": ""
             }
            },
            "type": "scattercarpet"
           }
          ],
          "scattergeo": [
           {
            "marker": {
             "colorbar": {
              "outlinewidth": 0,
              "ticks": ""
             }
            },
            "type": "scattergeo"
           }
          ],
          "scattergl": [
           {
            "marker": {
             "colorbar": {
              "outlinewidth": 0,
              "ticks": ""
             }
            },
            "type": "scattergl"
           }
          ],
          "scattermapbox": [
           {
            "marker": {
             "colorbar": {
              "outlinewidth": 0,
              "ticks": ""
             }
            },
            "type": "scattermapbox"
           }
          ],
          "scatterpolar": [
           {
            "marker": {
             "colorbar": {
              "outlinewidth": 0,
              "ticks": ""
             }
            },
            "type": "scatterpolar"
           }
          ],
          "scatterpolargl": [
           {
            "marker": {
             "colorbar": {
              "outlinewidth": 0,
              "ticks": ""
             }
            },
            "type": "scatterpolargl"
           }
          ],
          "scatterternary": [
           {
            "marker": {
             "colorbar": {
              "outlinewidth": 0,
              "ticks": ""
             }
            },
            "type": "scatterternary"
           }
          ],
          "surface": [
           {
            "colorbar": {
             "outlinewidth": 0,
             "ticks": ""
            },
            "colorscale": [
             [
              0,
              "#0d0887"
             ],
             [
              0.1111111111111111,
              "#46039f"
             ],
             [
              0.2222222222222222,
              "#7201a8"
             ],
             [
              0.3333333333333333,
              "#9c179e"
             ],
             [
              0.4444444444444444,
              "#bd3786"
             ],
             [
              0.5555555555555556,
              "#d8576b"
             ],
             [
              0.6666666666666666,
              "#ed7953"
             ],
             [
              0.7777777777777778,
              "#fb9f3a"
             ],
             [
              0.8888888888888888,
              "#fdca26"
             ],
             [
              1,
              "#f0f921"
             ]
            ],
            "type": "surface"
           }
          ],
          "table": [
           {
            "cells": {
             "fill": {
              "color": "#EBF0F8"
             },
             "line": {
              "color": "white"
             }
            },
            "header": {
             "fill": {
              "color": "#C8D4E3"
             },
             "line": {
              "color": "white"
             }
            },
            "type": "table"
           }
          ]
         },
         "layout": {
          "annotationdefaults": {
           "arrowcolor": "#2a3f5f",
           "arrowhead": 0,
           "arrowwidth": 1
          },
          "coloraxis": {
           "colorbar": {
            "outlinewidth": 0,
            "ticks": ""
           }
          },
          "colorscale": {
           "diverging": [
            [
             0,
             "#8e0152"
            ],
            [
             0.1,
             "#c51b7d"
            ],
            [
             0.2,
             "#de77ae"
            ],
            [
             0.3,
             "#f1b6da"
            ],
            [
             0.4,
             "#fde0ef"
            ],
            [
             0.5,
             "#f7f7f7"
            ],
            [
             0.6,
             "#e6f5d0"
            ],
            [
             0.7,
             "#b8e186"
            ],
            [
             0.8,
             "#7fbc41"
            ],
            [
             0.9,
             "#4d9221"
            ],
            [
             1,
             "#276419"
            ]
           ],
           "sequential": [
            [
             0,
             "#0d0887"
            ],
            [
             0.1111111111111111,
             "#46039f"
            ],
            [
             0.2222222222222222,
             "#7201a8"
            ],
            [
             0.3333333333333333,
             "#9c179e"
            ],
            [
             0.4444444444444444,
             "#bd3786"
            ],
            [
             0.5555555555555556,
             "#d8576b"
            ],
            [
             0.6666666666666666,
             "#ed7953"
            ],
            [
             0.7777777777777778,
             "#fb9f3a"
            ],
            [
             0.8888888888888888,
             "#fdca26"
            ],
            [
             1,
             "#f0f921"
            ]
           ],
           "sequentialminus": [
            [
             0,
             "#0d0887"
            ],
            [
             0.1111111111111111,
             "#46039f"
            ],
            [
             0.2222222222222222,
             "#7201a8"
            ],
            [
             0.3333333333333333,
             "#9c179e"
            ],
            [
             0.4444444444444444,
             "#bd3786"
            ],
            [
             0.5555555555555556,
             "#d8576b"
            ],
            [
             0.6666666666666666,
             "#ed7953"
            ],
            [
             0.7777777777777778,
             "#fb9f3a"
            ],
            [
             0.8888888888888888,
             "#fdca26"
            ],
            [
             1,
             "#f0f921"
            ]
           ]
          },
          "colorway": [
           "#636efa",
           "#EF553B",
           "#00cc96",
           "#ab63fa",
           "#FFA15A",
           "#19d3f3",
           "#FF6692",
           "#B6E880",
           "#FF97FF",
           "#FECB52"
          ],
          "font": {
           "color": "#2a3f5f"
          },
          "geo": {
           "bgcolor": "white",
           "lakecolor": "white",
           "landcolor": "#E5ECF6",
           "showlakes": true,
           "showland": true,
           "subunitcolor": "white"
          },
          "hoverlabel": {
           "align": "left"
          },
          "hovermode": "closest",
          "mapbox": {
           "style": "light"
          },
          "paper_bgcolor": "white",
          "plot_bgcolor": "#E5ECF6",
          "polar": {
           "angularaxis": {
            "gridcolor": "white",
            "linecolor": "white",
            "ticks": ""
           },
           "bgcolor": "#E5ECF6",
           "radialaxis": {
            "gridcolor": "white",
            "linecolor": "white",
            "ticks": ""
           }
          },
          "scene": {
           "xaxis": {
            "backgroundcolor": "#E5ECF6",
            "gridcolor": "white",
            "gridwidth": 2,
            "linecolor": "white",
            "showbackground": true,
            "ticks": "",
            "zerolinecolor": "white"
           },
           "yaxis": {
            "backgroundcolor": "#E5ECF6",
            "gridcolor": "white",
            "gridwidth": 2,
            "linecolor": "white",
            "showbackground": true,
            "ticks": "",
            "zerolinecolor": "white"
           },
           "zaxis": {
            "backgroundcolor": "#E5ECF6",
            "gridcolor": "white",
            "gridwidth": 2,
            "linecolor": "white",
            "showbackground": true,
            "ticks": "",
            "zerolinecolor": "white"
           }
          },
          "shapedefaults": {
           "line": {
            "color": "#2a3f5f"
           }
          },
          "ternary": {
           "aaxis": {
            "gridcolor": "white",
            "linecolor": "white",
            "ticks": ""
           },
           "baxis": {
            "gridcolor": "white",
            "linecolor": "white",
            "ticks": ""
           },
           "bgcolor": "#E5ECF6",
           "caxis": {
            "gridcolor": "white",
            "linecolor": "white",
            "ticks": ""
           }
          },
          "title": {
           "x": 0.05
          },
          "xaxis": {
           "automargin": true,
           "gridcolor": "white",
           "linecolor": "white",
           "ticks": "",
           "title": {
            "standoff": 15
           },
           "zerolinecolor": "white",
           "zerolinewidth": 2
          },
          "yaxis": {
           "automargin": true,
           "gridcolor": "white",
           "linecolor": "white",
           "ticks": "",
           "title": {
            "standoff": 15
           },
           "zerolinecolor": "white",
           "zerolinewidth": 2
          }
         }
        }
       }
      },
      "text/html": [
       "<div>\n",
       "        \n",
       "        \n",
       "            <div id=\"c0702dd9-4507-489b-8262-a07d05f60b13\" class=\"plotly-graph-div\" style=\"height:525px; width:100%;\"></div>\n",
       "            <script type=\"text/javascript\">\n",
       "                require([\"plotly\"], function(Plotly) {\n",
       "                    window.PLOTLYENV=window.PLOTLYENV || {};\n",
       "                    \n",
       "                if (document.getElementById(\"c0702dd9-4507-489b-8262-a07d05f60b13\")) {\n",
       "                    Plotly.newPlot(\n",
       "                        'c0702dd9-4507-489b-8262-a07d05f60b13',\n",
       "                        [{\"coloraxis\": \"coloraxis\", \"geo\": \"geo\", \"hovertemplate\": \"locations=%{location}<br>color=%{z}<extra></extra>\", \"locationmode\": \"USA-states\", \"locations\": [\"AL\", \"AK\", \"AZ\", \"AR\", \"CA\", \"CO\", \"CT\", \"DE\", \"FL\", \"GA\", \"HI\", \"ID\", \"IL\", \"IN\", \"IA\", \"KS\", \"KY\", \"LA\", \"ME\", \"MD\", \"MA\", \"MI\", \"MN\", \"MS\", \"MO\", \"MT\", \"NE\", \"NV\", \"NH\", \"NJ\", \"NM\", \"NY\", \"NC\", \"ND\", \"OH\", \"OK\", \"OR\", \"PA\", \"RI\", \"SC\", \"SD\", \"TN\", \"TX\", \"UT\", \"VT\", \"VA\", \"WA\", \"WV\", \"WI\", \"WY\"], \"name\": \"\", \"type\": \"choropleth\", \"z\": [-24.12538620155039, -9.357911228070215, -2.2666643881856174, -15.248365111111113, 22.79499525821599, 3.9536719583333166, 10.814223181818186, 10.363893249999975, -0.09090925675677397, -6.035690791666688, 19.737994404761913, -20.49749006944445, 13.82015216666668, -11.558890952380949, -2.360074999999995, -7.736656797385649, -16.396480068027188, -18.572906000000003, 4.83395463203464, 24.1602304964539, 22.912406601307183, 3.5710953488372255, 6.5468792361111525, -18.363249302325606, -7.547587549019582, -14.024835934959334, -25.061712777777775, -0.5628317921147428, 5.10261684523811, 10.695696111111118, 6.253422483660138, 17.7607505820106, -0.21082498666660854, -24.295127849462357, -1.6112394782608632, -21.793166666666682, 10.51643179012347, 3.032378826666644, 12.928655402298837, -8.04620064102562, -16.29121900900897, -15.18849724637679, -10.590602931034475, -8.571558030303045, 27.830647523809535, 6.174627399267436, 12.817368169934625, -24.32443716312056, 5.23188795833331, -33.622864252873576]}],\n",
       "                        {\"coloraxis\": {\"colorbar\": {\"title\": {\"text\": \"color\"}}, \"colorscale\": [[0.0, \"rgb(255,0,0)\"], [1.0, \"rgb(0,0,255)\"]]}, \"geo\": {\"center\": {}, \"domain\": {\"x\": [0.0, 1.0], \"y\": [0.0, 1.0]}, \"scope\": \"usa\"}, \"legend\": {\"tracegroupgap\": 0}, \"margin\": {\"t\": 60}, \"template\": {\"data\": {\"bar\": [{\"error_x\": {\"color\": \"#2a3f5f\"}, \"error_y\": {\"color\": \"#2a3f5f\"}, \"marker\": {\"line\": {\"color\": \"#E5ECF6\", \"width\": 0.5}}, \"type\": \"bar\"}], \"barpolar\": [{\"marker\": {\"line\": {\"color\": \"#E5ECF6\", \"width\": 0.5}}, \"type\": \"barpolar\"}], \"carpet\": [{\"aaxis\": {\"endlinecolor\": \"#2a3f5f\", \"gridcolor\": \"white\", \"linecolor\": \"white\", \"minorgridcolor\": \"white\", \"startlinecolor\": \"#2a3f5f\"}, \"baxis\": {\"endlinecolor\": \"#2a3f5f\", \"gridcolor\": \"white\", \"linecolor\": \"white\", \"minorgridcolor\": \"white\", \"startlinecolor\": \"#2a3f5f\"}, \"type\": \"carpet\"}], \"choropleth\": [{\"colorbar\": {\"outlinewidth\": 0, \"ticks\": \"\"}, \"type\": \"choropleth\"}], \"contour\": [{\"colorbar\": {\"outlinewidth\": 0, \"ticks\": \"\"}, \"colorscale\": [[0.0, \"#0d0887\"], [0.1111111111111111, \"#46039f\"], [0.2222222222222222, \"#7201a8\"], [0.3333333333333333, \"#9c179e\"], [0.4444444444444444, \"#bd3786\"], [0.5555555555555556, \"#d8576b\"], [0.6666666666666666, \"#ed7953\"], [0.7777777777777778, \"#fb9f3a\"], [0.8888888888888888, \"#fdca26\"], [1.0, \"#f0f921\"]], \"type\": \"contour\"}], \"contourcarpet\": [{\"colorbar\": {\"outlinewidth\": 0, \"ticks\": \"\"}, \"type\": \"contourcarpet\"}], \"heatmap\": [{\"colorbar\": {\"outlinewidth\": 0, \"ticks\": \"\"}, \"colorscale\": [[0.0, \"#0d0887\"], [0.1111111111111111, \"#46039f\"], [0.2222222222222222, \"#7201a8\"], [0.3333333333333333, \"#9c179e\"], [0.4444444444444444, \"#bd3786\"], [0.5555555555555556, \"#d8576b\"], [0.6666666666666666, \"#ed7953\"], [0.7777777777777778, \"#fb9f3a\"], [0.8888888888888888, \"#fdca26\"], [1.0, \"#f0f921\"]], \"type\": \"heatmap\"}], \"heatmapgl\": [{\"colorbar\": {\"outlinewidth\": 0, \"ticks\": \"\"}, \"colorscale\": [[0.0, \"#0d0887\"], [0.1111111111111111, \"#46039f\"], [0.2222222222222222, \"#7201a8\"], [0.3333333333333333, \"#9c179e\"], [0.4444444444444444, \"#bd3786\"], [0.5555555555555556, \"#d8576b\"], [0.6666666666666666, \"#ed7953\"], [0.7777777777777778, \"#fb9f3a\"], [0.8888888888888888, \"#fdca26\"], [1.0, \"#f0f921\"]], \"type\": \"heatmapgl\"}], \"histogram\": [{\"marker\": {\"colorbar\": {\"outlinewidth\": 0, \"ticks\": \"\"}}, \"type\": \"histogram\"}], \"histogram2d\": [{\"colorbar\": {\"outlinewidth\": 0, \"ticks\": \"\"}, \"colorscale\": [[0.0, \"#0d0887\"], [0.1111111111111111, \"#46039f\"], [0.2222222222222222, \"#7201a8\"], [0.3333333333333333, \"#9c179e\"], [0.4444444444444444, \"#bd3786\"], [0.5555555555555556, \"#d8576b\"], [0.6666666666666666, \"#ed7953\"], [0.7777777777777778, \"#fb9f3a\"], [0.8888888888888888, \"#fdca26\"], [1.0, \"#f0f921\"]], \"type\": \"histogram2d\"}], \"histogram2dcontour\": [{\"colorbar\": {\"outlinewidth\": 0, \"ticks\": \"\"}, \"colorscale\": [[0.0, \"#0d0887\"], [0.1111111111111111, \"#46039f\"], [0.2222222222222222, \"#7201a8\"], [0.3333333333333333, \"#9c179e\"], [0.4444444444444444, \"#bd3786\"], [0.5555555555555556, \"#d8576b\"], [0.6666666666666666, \"#ed7953\"], [0.7777777777777778, \"#fb9f3a\"], [0.8888888888888888, \"#fdca26\"], [1.0, \"#f0f921\"]], \"type\": \"histogram2dcontour\"}], \"mesh3d\": [{\"colorbar\": {\"outlinewidth\": 0, \"ticks\": \"\"}, \"type\": \"mesh3d\"}], \"parcoords\": [{\"line\": {\"colorbar\": {\"outlinewidth\": 0, \"ticks\": \"\"}}, \"type\": \"parcoords\"}], \"pie\": [{\"automargin\": true, \"type\": \"pie\"}], \"scatter\": [{\"marker\": {\"colorbar\": {\"outlinewidth\": 0, \"ticks\": \"\"}}, \"type\": \"scatter\"}], \"scatter3d\": [{\"line\": {\"colorbar\": {\"outlinewidth\": 0, \"ticks\": \"\"}}, \"marker\": {\"colorbar\": {\"outlinewidth\": 0, \"ticks\": \"\"}}, \"type\": \"scatter3d\"}], \"scattercarpet\": [{\"marker\": {\"colorbar\": {\"outlinewidth\": 0, \"ticks\": \"\"}}, \"type\": \"scattercarpet\"}], \"scattergeo\": [{\"marker\": {\"colorbar\": {\"outlinewidth\": 0, \"ticks\": \"\"}}, \"type\": \"scattergeo\"}], \"scattergl\": [{\"marker\": {\"colorbar\": {\"outlinewidth\": 0, \"ticks\": \"\"}}, \"type\": \"scattergl\"}], \"scattermapbox\": [{\"marker\": {\"colorbar\": {\"outlinewidth\": 0, \"ticks\": \"\"}}, \"type\": \"scattermapbox\"}], \"scatterpolar\": [{\"marker\": {\"colorbar\": {\"outlinewidth\": 0, \"ticks\": \"\"}}, \"type\": \"scatterpolar\"}], \"scatterpolargl\": [{\"marker\": {\"colorbar\": {\"outlinewidth\": 0, \"ticks\": \"\"}}, \"type\": \"scatterpolargl\"}], \"scatterternary\": [{\"marker\": {\"colorbar\": {\"outlinewidth\": 0, \"ticks\": \"\"}}, \"type\": \"scatterternary\"}], \"surface\": [{\"colorbar\": {\"outlinewidth\": 0, \"ticks\": \"\"}, \"colorscale\": [[0.0, \"#0d0887\"], [0.1111111111111111, \"#46039f\"], [0.2222222222222222, \"#7201a8\"], [0.3333333333333333, \"#9c179e\"], [0.4444444444444444, \"#bd3786\"], [0.5555555555555556, \"#d8576b\"], [0.6666666666666666, \"#ed7953\"], [0.7777777777777778, \"#fb9f3a\"], [0.8888888888888888, \"#fdca26\"], [1.0, \"#f0f921\"]], \"type\": \"surface\"}], \"table\": [{\"cells\": {\"fill\": {\"color\": \"#EBF0F8\"}, \"line\": {\"color\": \"white\"}}, \"header\": {\"fill\": {\"color\": \"#C8D4E3\"}, \"line\": {\"color\": \"white\"}}, \"type\": \"table\"}]}, \"layout\": {\"annotationdefaults\": {\"arrowcolor\": \"#2a3f5f\", \"arrowhead\": 0, \"arrowwidth\": 1}, \"coloraxis\": {\"colorbar\": {\"outlinewidth\": 0, \"ticks\": \"\"}}, \"colorscale\": {\"diverging\": [[0, \"#8e0152\"], [0.1, \"#c51b7d\"], [0.2, \"#de77ae\"], [0.3, \"#f1b6da\"], [0.4, \"#fde0ef\"], [0.5, \"#f7f7f7\"], [0.6, \"#e6f5d0\"], [0.7, \"#b8e186\"], [0.8, \"#7fbc41\"], [0.9, \"#4d9221\"], [1, \"#276419\"]], \"sequential\": [[0.0, \"#0d0887\"], [0.1111111111111111, \"#46039f\"], [0.2222222222222222, \"#7201a8\"], [0.3333333333333333, \"#9c179e\"], [0.4444444444444444, \"#bd3786\"], [0.5555555555555556, \"#d8576b\"], [0.6666666666666666, \"#ed7953\"], [0.7777777777777778, \"#fb9f3a\"], [0.8888888888888888, \"#fdca26\"], [1.0, \"#f0f921\"]], \"sequentialminus\": [[0.0, \"#0d0887\"], [0.1111111111111111, \"#46039f\"], [0.2222222222222222, \"#7201a8\"], [0.3333333333333333, \"#9c179e\"], [0.4444444444444444, \"#bd3786\"], [0.5555555555555556, \"#d8576b\"], [0.6666666666666666, \"#ed7953\"], [0.7777777777777778, \"#fb9f3a\"], [0.8888888888888888, \"#fdca26\"], [1.0, \"#f0f921\"]]}, \"colorway\": [\"#636efa\", \"#EF553B\", \"#00cc96\", \"#ab63fa\", \"#FFA15A\", \"#19d3f3\", \"#FF6692\", \"#B6E880\", \"#FF97FF\", \"#FECB52\"], \"font\": {\"color\": \"#2a3f5f\"}, \"geo\": {\"bgcolor\": \"white\", \"lakecolor\": \"white\", \"landcolor\": \"#E5ECF6\", \"showlakes\": true, \"showland\": true, \"subunitcolor\": \"white\"}, \"hoverlabel\": {\"align\": \"left\"}, \"hovermode\": \"closest\", \"mapbox\": {\"style\": \"light\"}, \"paper_bgcolor\": \"white\", \"plot_bgcolor\": \"#E5ECF6\", \"polar\": {\"angularaxis\": {\"gridcolor\": \"white\", \"linecolor\": \"white\", \"ticks\": \"\"}, \"bgcolor\": \"#E5ECF6\", \"radialaxis\": {\"gridcolor\": \"white\", \"linecolor\": \"white\", \"ticks\": \"\"}}, \"scene\": {\"xaxis\": {\"backgroundcolor\": \"#E5ECF6\", \"gridcolor\": \"white\", \"gridwidth\": 2, \"linecolor\": \"white\", \"showbackground\": true, \"ticks\": \"\", \"zerolinecolor\": \"white\"}, \"yaxis\": {\"backgroundcolor\": \"#E5ECF6\", \"gridcolor\": \"white\", \"gridwidth\": 2, \"linecolor\": \"white\", \"showbackground\": true, \"ticks\": \"\", \"zerolinecolor\": \"white\"}, \"zaxis\": {\"backgroundcolor\": \"#E5ECF6\", \"gridcolor\": \"white\", \"gridwidth\": 2, \"linecolor\": \"white\", \"showbackground\": true, \"ticks\": \"\", \"zerolinecolor\": \"white\"}}, \"shapedefaults\": {\"line\": {\"color\": \"#2a3f5f\"}}, \"ternary\": {\"aaxis\": {\"gridcolor\": \"white\", \"linecolor\": \"white\", \"ticks\": \"\"}, \"baxis\": {\"gridcolor\": \"white\", \"linecolor\": \"white\", \"ticks\": \"\"}, \"bgcolor\": \"#E5ECF6\", \"caxis\": {\"gridcolor\": \"white\", \"linecolor\": \"white\", \"ticks\": \"\"}}, \"title\": {\"x\": 0.05}, \"xaxis\": {\"automargin\": true, \"gridcolor\": \"white\", \"linecolor\": \"white\", \"ticks\": \"\", \"title\": {\"standoff\": 15}, \"zerolinecolor\": \"white\", \"zerolinewidth\": 2}, \"yaxis\": {\"automargin\": true, \"gridcolor\": \"white\", \"linecolor\": \"white\", \"ticks\": \"\", \"title\": {\"standoff\": 15}, \"zerolinecolor\": \"white\", \"zerolinewidth\": 2}}}},\n",
       "                        {\"responsive\": true}\n",
       "                    ).then(function(){\n",
       "                            \n",
       "var gd = document.getElementById('c0702dd9-4507-489b-8262-a07d05f60b13');\n",
       "var x = new MutationObserver(function (mutations, observer) {{\n",
       "        var display = window.getComputedStyle(gd).display;\n",
       "        if (!display || display === 'none') {{\n",
       "            console.log([gd, 'removed!']);\n",
       "            Plotly.purge(gd);\n",
       "            observer.disconnect();\n",
       "        }}\n",
       "}});\n",
       "\n",
       "// Listen for the removal of the full notebook cells\n",
       "var notebookContainer = gd.closest('#notebook-container');\n",
       "if (notebookContainer) {{\n",
       "    x.observe(notebookContainer, {childList: true});\n",
       "}}\n",
       "\n",
       "// Listen for the clearing of the current output cell\n",
       "var outputEl = gd.closest('.output');\n",
       "if (outputEl) {{\n",
       "    x.observe(outputEl, {childList: true});\n",
       "}}\n",
       "\n",
       "                        })\n",
       "                };\n",
       "                });\n",
       "            </script>\n",
       "        </div>"
      ]
     },
     "metadata": {},
     "output_type": "display_data"
    }
   ],
   "source": [
    "# we excluded DC from the analysis.  They had a + 50 Clinton bias and were skewing the map to make it look a lot more Trump favored than it was in reality\n",
    "fig = px.choropleth(locations=[\"AL\", \"AK\", \"AZ\", \"AR\", \"CA\", \"CO\", \"CT\", \"DE\", \"FL\", \"GA\", \"HI\", \"ID\", \"IL\", \"IN\", \"IA\", \"KS\", \"KY\", \"LA\", \"ME\", \"MD\", \"MA\", \"MI\", \"MN\", \"MS\", \"MO\", \"MT\", \"NE\", \"NV\", \"NH\", \"NJ\", \"NM\", \"NY\", \"NC\", \"ND\", \"OH\", \"OK\", \"OR\", \"PA\", \"RI\", \"SC\", \"SD\", \"TN\", \"TX\", \"UT\", \"VT\", \"VA\", \"WA\", \"WV\", \"WI\", \"WY\"], \n",
    "                    locationmode=\"USA-states\", color=state_df['Clinton Minus Trump'], scope=\"usa\", \n",
    "                    color_continuous_scale = px.colors.sequential.Bluered_r)\n",
    "fig.show()"
   ]
  }
 ],
 "metadata": {
  "kernelspec": {
   "display_name": "Python 3",
   "language": "python",
   "name": "python3"
  },
  "language_info": {
   "codemirror_mode": {
    "name": "ipython",
    "version": 3
   },
   "file_extension": ".py",
   "mimetype": "text/x-python",
   "name": "python",
   "nbconvert_exporter": "python",
   "pygments_lexer": "ipython3",
   "version": "3.7.6"
  }
 },
 "nbformat": 4,
 "nbformat_minor": 4
}
